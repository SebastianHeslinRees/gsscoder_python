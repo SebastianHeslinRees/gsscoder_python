{
 "cells": [
  {
   "cell_type": "code",
   "execution_count": 13,
   "id": "4e9fd323",
   "metadata": {},
   "outputs": [],
   "source": [
    "import pandas as pd\n",
    "import numpy as np\n",
    "import os"
   ]
  },
  {
   "cell_type": "code",
   "execution_count": null,
   "id": "ecc2116c",
   "metadata": {},
   "outputs": [],
   "source": [
    "os.getcwd()\n",
    "#go one directory up\n",
    "os.chdir('..')\n",
    "# Load the data\n",
    "all_codes = pd.read_pickle(\"gsscoder_python/lookups/all_lad_codes_dates.pickle\")\n"
   ]
  },
  {
   "cell_type": "code",
   "execution_count": 29,
   "id": "9c52ab45",
   "metadata": {},
   "outputs": [],
   "source": [
    "# Ensure datetime columns are properly typed\n",
    "all_codes['start_date'] = pd.to_datetime(all_codes['start_date'])\n",
    "all_codes['end_date'] = pd.to_datetime(all_codes['end_date'], errors='coerce')  # coerce invalid dates to NaT\n",
    "\n",
    "# 2. Fix the 2009 date (now with proper datetime handling)\n",
    "mask = all_codes['start_date'] == pd.to_datetime(\"2009-01-01\")\n",
    "all_codes.loc[mask, 'start_date'] = pd.to_datetime(\"2008-12-31\")\n",
    "\n",
    "# 3. Get change years safely\n",
    "change_dates = all_codes['start_date'].dropna().unique()\n",
    "change_dates = sorted(change_dates)  # Now comparing Timestamp vs Timestamp\n",
    "change_years = pd.to_datetime(change_dates).year.astype(str).tolist()\n",
    "\n",
    "# 4. Helper function to avoid code duplication\n",
    "def get_year_data(year, columns):\n",
    "    year = str(year)  # Ensure string type\n",
    "    end_of_year = pd.to_datetime(f\"{year}-12-31\")\n",
    "    \n",
    "    # Filter data\n",
    "    data = all_codes[\n",
    "        (all_codes['start_date'] <= end_of_year) &\n",
    "        (all_codes['end_date'].isna() | (all_codes['end_date'] >= end_of_year))\n",
    "    ].copy()\n",
    "    \n",
    "    # Select and sort columns\n",
    "    data = data[columns]\n",
    "    \n",
    "    # Determine sort column (first column in the list)\n",
    "    sort_col = columns[0]\n",
    "    \n",
    "    # Ensure sort column has consistent type (convert to string if needed)\n",
    "    if data[sort_col].dtype == object:\n",
    "        data[sort_col] = data[sort_col].astype(str)\n",
    "    \n",
    "    return data.sort_values(sort_col).reset_index(drop=True)\n",
    "\n",
    "# 5. Generate test data\n",
    "test_codes = {f\"y{year}\": get_year_data(year, ['gss_code']) for year in change_years}\n",
    "test_names = {f\"y{year}\": get_year_data(year, ['gss_name']) for year in change_years}\n",
    "test_codes_names = {f\"y{year}\": get_year_data(year, ['gss_code', 'gss_name']) for year in change_years}\n",
    "\n",
    "# 6. Save results\n",
    "pd.to_pickle(test_codes, \"gsscoder_python/lookups/test_codes.pkl\")\n",
    "pd.to_pickle(test_names, \"gsscoder_python/lookups/test_names.pkl\")\n",
    "pd.to_pickle(test_codes_names, \"gsscoder_python/lookups/test_codes_names.pkl\")"
   ]
  }
 ],
 "metadata": {
  "kernelspec": {
   "display_name": "env",
   "language": "python",
   "name": "python3"
  },
  "language_info": {
   "codemirror_mode": {
    "name": "ipython",
    "version": 3
   },
   "file_extension": ".py",
   "mimetype": "text/x-python",
   "name": "python",
   "nbconvert_exporter": "python",
   "pygments_lexer": "ipython3",
   "version": "3.12.8"
  }
 },
 "nbformat": 4,
 "nbformat_minor": 5
}
