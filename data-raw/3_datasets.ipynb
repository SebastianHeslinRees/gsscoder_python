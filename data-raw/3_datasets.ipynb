{
 "cells": [
  {
   "cell_type": "code",
   "execution_count": 4,
   "id": "e68e5fe7",
   "metadata": {},
   "outputs": [],
   "source": [
    "import pickle\n",
    "import pandas as pd\n",
    "from pathlib import Path\n",
    "import os"
   ]
  },
  {
   "cell_type": "code",
   "execution_count": 16,
   "id": "084ac0b0",
   "metadata": {},
   "outputs": [],
   "source": [
    "os.chdir(Path().resolve().parent)"
   ]
  },
  {
   "cell_type": "code",
   "execution_count": 18,
   "id": "e0c1dd69",
   "metadata": {},
   "outputs": [],
   "source": [
    "os.chdir(\"/Users/user1/Documents/gsscoder_python\")"
   ]
  },
  {
   "cell_type": "code",
   "execution_count": null,
   "id": "bb1c352f",
   "metadata": {},
   "outputs": [
    {
     "ename": "FileNotFoundError",
     "evalue": "[Errno 2] No such file or directory: '/Users/user1/Documents/gsscoder_python/gsscoder_python/lookups/database_date.pickle'",
     "output_type": "error",
     "traceback": [
      "\u001b[0;31m---------------------------------------------------------------------------\u001b[0m",
      "\u001b[0;31mFileNotFoundError\u001b[0m                         Traceback (most recent call last)",
      "Cell \u001b[0;32mIn[21], line 21\u001b[0m\n\u001b[1;32m     18\u001b[0m     \u001b[38;5;28;01mreturn\u001b[39;00m data\n\u001b[1;32m     20\u001b[0m \u001b[38;5;66;03m# Load all datasets\u001b[39;00m\n\u001b[0;32m---> 21\u001b[0m datasets \u001b[38;5;241m=\u001b[39m \u001b[43mload_data\u001b[49m\u001b[43m(\u001b[49m\u001b[43m)\u001b[49m\n\u001b[1;32m     23\u001b[0m \u001b[38;5;66;03m# 2. Prepare for package use (internal storage)\u001b[39;00m\n\u001b[1;32m     24\u001b[0m \u001b[38;5;28;01mdef\u001b[39;00m\u001b[38;5;250m \u001b[39m\u001b[38;5;21msave_as_internal\u001b[39m(datasets, output_dir\u001b[38;5;241m=\u001b[39m\u001b[38;5;124m\"\u001b[39m\u001b[38;5;124mgsscoder_python/internal_data\u001b[39m\u001b[38;5;124m\"\u001b[39m):\n",
      "Cell \u001b[0;32mIn[21], line 16\u001b[0m, in \u001b[0;36mload_data\u001b[0;34m()\u001b[0m\n\u001b[1;32m     14\u001b[0m data \u001b[38;5;241m=\u001b[39m {}\n\u001b[1;32m     15\u001b[0m \u001b[38;5;28;01mfor\u001b[39;00m name, path \u001b[38;5;129;01min\u001b[39;00m files\u001b[38;5;241m.\u001b[39mitems():\n\u001b[0;32m---> 16\u001b[0m     \u001b[38;5;28;01mwith\u001b[39;00m \u001b[38;5;28;43mopen\u001b[39;49m\u001b[43m(\u001b[49m\u001b[43mpath\u001b[49m\u001b[43m,\u001b[49m\u001b[43m \u001b[49m\u001b[38;5;124;43m'\u001b[39;49m\u001b[38;5;124;43mrb\u001b[39;49m\u001b[38;5;124;43m'\u001b[39;49m\u001b[43m)\u001b[49m \u001b[38;5;28;01mas\u001b[39;00m f:\n\u001b[1;32m     17\u001b[0m         data[name] \u001b[38;5;241m=\u001b[39m pickle\u001b[38;5;241m.\u001b[39mload(f)\n\u001b[1;32m     18\u001b[0m \u001b[38;5;28;01mreturn\u001b[39;00m data\n",
      "File \u001b[0;32m~/.local/lib/python3.12/site-packages/IPython/core/interactiveshell.py:324\u001b[0m, in \u001b[0;36m_modified_open\u001b[0;34m(file, *args, **kwargs)\u001b[0m\n\u001b[1;32m    317\u001b[0m \u001b[38;5;28;01mif\u001b[39;00m file \u001b[38;5;129;01min\u001b[39;00m {\u001b[38;5;241m0\u001b[39m, \u001b[38;5;241m1\u001b[39m, \u001b[38;5;241m2\u001b[39m}:\n\u001b[1;32m    318\u001b[0m     \u001b[38;5;28;01mraise\u001b[39;00m \u001b[38;5;167;01mValueError\u001b[39;00m(\n\u001b[1;32m    319\u001b[0m         \u001b[38;5;124mf\u001b[39m\u001b[38;5;124m\"\u001b[39m\u001b[38;5;124mIPython won\u001b[39m\u001b[38;5;124m'\u001b[39m\u001b[38;5;124mt let you open fd=\u001b[39m\u001b[38;5;132;01m{\u001b[39;00mfile\u001b[38;5;132;01m}\u001b[39;00m\u001b[38;5;124m by default \u001b[39m\u001b[38;5;124m\"\u001b[39m\n\u001b[1;32m    320\u001b[0m         \u001b[38;5;124m\"\u001b[39m\u001b[38;5;124mas it is likely to crash IPython. If you know what you are doing, \u001b[39m\u001b[38;5;124m\"\u001b[39m\n\u001b[1;32m    321\u001b[0m         \u001b[38;5;124m\"\u001b[39m\u001b[38;5;124myou can use builtins\u001b[39m\u001b[38;5;124m'\u001b[39m\u001b[38;5;124m open.\u001b[39m\u001b[38;5;124m\"\u001b[39m\n\u001b[1;32m    322\u001b[0m     )\n\u001b[0;32m--> 324\u001b[0m \u001b[38;5;28;01mreturn\u001b[39;00m \u001b[43mio_open\u001b[49m\u001b[43m(\u001b[49m\u001b[43mfile\u001b[49m\u001b[43m,\u001b[49m\u001b[43m \u001b[49m\u001b[38;5;241;43m*\u001b[39;49m\u001b[43margs\u001b[49m\u001b[43m,\u001b[49m\u001b[43m \u001b[49m\u001b[38;5;241;43m*\u001b[39;49m\u001b[38;5;241;43m*\u001b[39;49m\u001b[43mkwargs\u001b[49m\u001b[43m)\u001b[49m\n",
      "\u001b[0;31mFileNotFoundError\u001b[0m: [Errno 2] No such file or directory: '/Users/user1/Documents/gsscoder_python/gsscoder_python/lookups/database_date.pickle'"
     ]
    }
   ],
   "source": [
    "# Define paths (using your exact structure)\n",
    "base_dir = \"/Users/user1/Documents/gsscoder_python/gsscoder_python/lookups\"\n",
    "files = {\n",
    "    \"all_lad_codes_dates\": f\"{base_dir}/all_lad_codes_dates.pickle\",\n",
    "    \"lad_code_changes\": f\"{base_dir}/lad_code_changes.pickle\", \n",
    "    \"database_date\": f\"{base_dir}/database_date.txt\",\n",
    "    \"test_codes\": f\"{base_dir}/test_codes.pickle\",\n",
    "    \"test_names\": f\"{base_dir}/test_names.pickle\",\n",
    "    \"test_codes_names\": f\"{base_dir}/test_codes_names.pickle\"\n",
    "}\n",
    "\n",
    "# 1. Load all pickle files\n",
    "def load_data():\n",
    "    data = {}\n",
    "    for name, path in files.items():\n",
    "        with open(path, 'rb') as f:\n",
    "            data[name] = pickle.load(f)\n",
    "    return data\n",
    "\n",
    "# Load all datasets\n",
    "datasets = load_data()\n",
    "\n",
    "# 2. Prepare for package use (internal storage)\n",
    "def save_as_internal(datasets, output_dir=\"gsscoder_python/internal_data\"):\n",
    "    Path(output_dir).mkdir(parents=True, exist_ok=True)\n",
    "    \n",
    "    # Save combined data\n",
    "    with open(f\"{output_dir}/internal_data.pickle\", 'wb') as f:\n",
    "        pickle.dump(datasets, f, protocol=pickle.HIGHEST_PROTOCOL)\n",
    "    \n",
    "    # Also save individual files for easier access\n",
    "    for name, data in datasets.items():\n",
    "        with open(f\"{output_dir}/{name}.pickle\", 'wb') as f:\n",
    "            pickle.dump(data, f, protocol=pickle.HIGHEST_PROTOCOL)\n",
    "\n",
    "# Save all data for internal package use\n",
    "save_as_internal(datasets)\n",
    "\n",
    "# 3. Clean up (if needed)\n",
    "del datasets"
   ]
  }
 ],
 "metadata": {
  "kernelspec": {
   "display_name": "env",
   "language": "python",
   "name": "python3"
  },
  "language_info": {
   "codemirror_mode": {
    "name": "ipython",
    "version": 3
   },
   "file_extension": ".py",
   "mimetype": "text/x-python",
   "name": "python",
   "nbconvert_exporter": "python",
   "pygments_lexer": "ipython3",
   "version": "3.12.8"
  }
 },
 "nbformat": 4,
 "nbformat_minor": 5
}
